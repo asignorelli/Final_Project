{
 "cells": [
  {
   "cell_type": "markdown",
   "id": "35e8ea95-674c-46a6-9152-5b990e97d932",
   "metadata": {},
   "source": [
    "**Final Project**\n"
   ]
  },
  {
   "cell_type": "markdown",
   "id": "9356a231-eb73-4260-977a-f637a7ec4a8b",
   "metadata": {},
   "source": [
    "**Our Metrics**"
   ]
  },
  {
   "cell_type": "markdown",
   "id": "23efc66b-2bef-4c7e-b8ec-e3588efa7842",
   "metadata": {},
   "source": [
    "**Best Neighborhood**"
   ]
  },
  {
   "cell_type": "markdown",
   "id": "b82451db-236c-48f8-ad24-5b8bf4930aa3",
   "metadata": {},
   "source": [
    "**Conclusion**"
   ]
  },
  {
   "cell_type": "code",
   "execution_count": null,
   "id": "14149f8d-56cb-4d55-b8c3-bbf3211cb323",
   "metadata": {},
   "outputs": [],
   "source": []
  }
 ],
 "metadata": {
  "kernelspec": {
   "display_name": "Python 3 (ipykernel)",
   "language": "python",
   "name": "python3"
  },
  "language_info": {
   "codemirror_mode": {
    "name": "ipython",
    "version": 3
   },
   "file_extension": ".py",
   "mimetype": "text/x-python",
   "name": "python",
   "nbconvert_exporter": "python",
   "pygments_lexer": "ipython3",
   "version": "3.12.4"
  }
 },
 "nbformat": 4,
 "nbformat_minor": 5
}
