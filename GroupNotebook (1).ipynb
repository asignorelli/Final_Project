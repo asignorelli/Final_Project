{
 "cells": [
  {
   "cell_type": "markdown",
   "id": "35e8ea95-674c-46a6-9152-5b990e97d932",
   "metadata": {},
   "source": [
    "# **Final Project**\n"
   ]
  },
  {
   "cell_type": "markdown",
   "id": "9356a231-eb73-4260-977a-f637a7ec4a8b",
   "metadata": {},
   "source": [
    "## **Our Metrics**"
   ]
  },
  {
   "cell_type": "code",
   "execution_count": 10,
   "id": "b9ae67e0-397f-4303-b6d7-9fd028e991ed",
   "metadata": {},
   "outputs": [],
   "source": [
    "import pandas as pd\n",
    "%matplotlib inline\n",
    "import geopandas\n",
    "import matplotlib.pyplot as plt\n",
    "import pylab\n",
    "neighborhoods = geopandas.read_file(\"Neighborhoods_.shp\")"
   ]
  },
  {
   "cell_type": "markdown",
   "id": "66aa261f-fbce-42e0-afd8-6701cab1925e",
   "metadata": {},
   "source": [
    "### **Pools**"
   ]
  },
  {
   "cell_type": "code",
   "execution_count": 13,
   "id": "9a194707-775b-4649-8cb3-fb7975414f19",
   "metadata": {},
   "outputs": [
    {
     "data": {
      "text/plain": [
       "neighborhood\n",
       "Squirrel Hill South    26\n",
       "Highland Park          20\n",
       "Hazelwood              10\n",
       "Beltzhoover             9\n",
       "Brookline               9\n",
       "                       ..\n",
       "Perry South             1\n",
       "Bon Air                 1\n",
       "Upper Hill              1\n",
       "Allentown               1\n",
       "Middle Hill             1\n",
       "Length: 63, dtype: int64"
      ]
     },
     "execution_count": 13,
     "metadata": {},
     "output_type": "execute_result"
    }
   ],
   "source": [
    "###### read the file\n",
    "courts = pd.read_csv(\"courts.csv\", parse_dates=True)\n",
    "\n",
    "num_courts = courts.groupby(\"neighborhood\").size()\n",
    "num_courts.sort_values(ascending=False)"
   ]
  },
  {
   "cell_type": "code",
   "execution_count": 16,
   "id": "bb62bfac-1d2e-4b33-8f40-d62c9a3c44a6",
   "metadata": {},
   "outputs": [],
   "source": [
    "neighborhoods = geopandas.read_file(\"Neighborhoods_.shp\") # read in the shapefile"
   ]
  },
  {
   "cell_type": "code",
   "execution_count": 19,
   "id": "88b70900-9485-4f18-9386-15984c63ab58",
   "metadata": {},
   "outputs": [
    {
     "ename": "NameError",
     "evalue": "name 'num_pools' is not defined",
     "output_type": "error",
     "traceback": [
      "\u001b[1;31m---------------------------------------------------------------------------\u001b[0m",
      "\u001b[1;31mNameError\u001b[0m                                 Traceback (most recent call last)",
      "Cell \u001b[1;32mIn[19], line 1\u001b[0m\n\u001b[1;32m----> 1\u001b[0m num_pools \u001b[38;5;241m=\u001b[39m num_pools\u001b[38;5;241m.\u001b[39mreset_index()\n\u001b[0;32m      2\u001b[0m num_pools\u001b[38;5;241m.\u001b[39mcolumns \u001b[38;5;241m=\u001b[39m [\u001b[38;5;124m\"\u001b[39m\u001b[38;5;124mneighborhood\u001b[39m\u001b[38;5;124m\"\u001b[39m, \u001b[38;5;124m\"\u001b[39m\u001b[38;5;124mpool_count\u001b[39m\u001b[38;5;124m\"\u001b[39m]\n\u001b[0;32m      4\u001b[0m \u001b[38;5;66;03m# Now perform the merge\u001b[39;00m\n",
      "\u001b[1;31mNameError\u001b[0m: name 'num_pools' is not defined"
     ]
    }
   ],
   "source": [
    "num_pools = num_pools.reset_index()\n",
    "num_pools.columns = [\"neighborhood\", \"pool_count\"]\n",
    "\n",
    "# Now perform the merge\n",
    "pools_map = neighborhoods.merge(num_pools, how=\"left\", left_on=\"hood\", right_on=\"neighborhood\")"
   ]
  },
  {
   "cell_type": "markdown",
   "id": "23efc66b-2bef-4c7e-b8ec-e3588efa7842",
   "metadata": {},
   "source": [
    "## **Best Neighborhood**"
   ]
  },
  {
   "cell_type": "markdown",
   "id": "b82451db-236c-48f8-ad24-5b8bf4930aa3",
   "metadata": {},
   "source": [
    "## **Conclusion**"
   ]
  },
  {
   "cell_type": "code",
   "execution_count": null,
   "id": "14149f8d-56cb-4d55-b8c3-bbf3211cb323",
   "metadata": {},
   "outputs": [],
   "source": []
  }
 ],
 "metadata": {
  "kernelspec": {
   "display_name": "Python 3 (ipykernel)",
   "language": "python",
   "name": "python3"
  },
  "language_info": {
   "codemirror_mode": {
    "name": "ipython",
    "version": 3
   },
   "file_extension": ".py",
   "mimetype": "text/x-python",
   "name": "python",
   "nbconvert_exporter": "python",
   "pygments_lexer": "ipython3",
   "version": "3.12.4"
  }
 },
 "nbformat": 4,
 "nbformat_minor": 5
}
